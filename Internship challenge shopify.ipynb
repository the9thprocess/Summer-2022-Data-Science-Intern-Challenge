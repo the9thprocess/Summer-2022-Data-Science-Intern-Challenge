{
 "cells": [
  {
   "cell_type": "code",
   "execution_count": 84,
   "id": "46501aa0",
   "metadata": {},
   "outputs": [],
   "source": [
    "#import library\n",
    "import os\n",
    "import csv\n",
    "from pathlib import Path\n",
    "import pandas as pd\n",
    "import numpy as np\n"
   ]
  },
  {
   "cell_type": "code",
   "execution_count": 85,
   "id": "36214366",
   "metadata": {},
   "outputs": [],
   "source": [
    "# Set path to collect data \n",
    "data = os.path.exists('2019 Winter Data Science Intern Challenge Data Set.xlsx')\n",
    "# Make a reference to the data\n",
    "path = '2019 Winter Data Science Intern Challenge Data Set.xlsx'"
   ]
  },
  {
   "cell_type": "code",
   "execution_count": 86,
   "id": "438bcf68",
   "metadata": {},
   "outputs": [
    {
     "data": {
      "text/html": [
       "<div>\n",
       "<style scoped>\n",
       "    .dataframe tbody tr th:only-of-type {\n",
       "        vertical-align: middle;\n",
       "    }\n",
       "\n",
       "    .dataframe tbody tr th {\n",
       "        vertical-align: top;\n",
       "    }\n",
       "\n",
       "    .dataframe thead th {\n",
       "        text-align: right;\n",
       "    }\n",
       "</style>\n",
       "<table border=\"1\" class=\"dataframe\">\n",
       "  <thead>\n",
       "    <tr style=\"text-align: right;\">\n",
       "      <th></th>\n",
       "      <th>order_id</th>\n",
       "      <th>shop_id</th>\n",
       "      <th>user_id</th>\n",
       "      <th>order_amount</th>\n",
       "      <th>total_items</th>\n",
       "      <th>payment_method</th>\n",
       "      <th>created_at</th>\n",
       "    </tr>\n",
       "  </thead>\n",
       "  <tbody>\n",
       "    <tr>\n",
       "      <th>0</th>\n",
       "      <td>1</td>\n",
       "      <td>53</td>\n",
       "      <td>746</td>\n",
       "      <td>224</td>\n",
       "      <td>2</td>\n",
       "      <td>cash</td>\n",
       "      <td>2017-03-13 12:36:56.190</td>\n",
       "    </tr>\n",
       "    <tr>\n",
       "      <th>1</th>\n",
       "      <td>2</td>\n",
       "      <td>92</td>\n",
       "      <td>925</td>\n",
       "      <td>90</td>\n",
       "      <td>1</td>\n",
       "      <td>cash</td>\n",
       "      <td>2017-03-03 17:38:51.999</td>\n",
       "    </tr>\n",
       "    <tr>\n",
       "      <th>2</th>\n",
       "      <td>3</td>\n",
       "      <td>44</td>\n",
       "      <td>861</td>\n",
       "      <td>144</td>\n",
       "      <td>1</td>\n",
       "      <td>cash</td>\n",
       "      <td>2017-03-14 04:23:55.595</td>\n",
       "    </tr>\n",
       "    <tr>\n",
       "      <th>3</th>\n",
       "      <td>4</td>\n",
       "      <td>18</td>\n",
       "      <td>935</td>\n",
       "      <td>156</td>\n",
       "      <td>1</td>\n",
       "      <td>credit_card</td>\n",
       "      <td>2017-03-26 12:43:36.649</td>\n",
       "    </tr>\n",
       "    <tr>\n",
       "      <th>4</th>\n",
       "      <td>5</td>\n",
       "      <td>18</td>\n",
       "      <td>883</td>\n",
       "      <td>156</td>\n",
       "      <td>1</td>\n",
       "      <td>credit_card</td>\n",
       "      <td>2017-03-01 04:35:10.773</td>\n",
       "    </tr>\n",
       "  </tbody>\n",
       "</table>\n",
       "</div>"
      ],
      "text/plain": [
       "   order_id  shop_id  user_id  order_amount  total_items payment_method  \\\n",
       "0         1       53      746           224            2           cash   \n",
       "1         2       92      925            90            1           cash   \n",
       "2         3       44      861           144            1           cash   \n",
       "3         4       18      935           156            1    credit_card   \n",
       "4         5       18      883           156            1    credit_card   \n",
       "\n",
       "               created_at  \n",
       "0 2017-03-13 12:36:56.190  \n",
       "1 2017-03-03 17:38:51.999  \n",
       "2 2017-03-14 04:23:55.595  \n",
       "3 2017-03-26 12:43:36.649  \n",
       "4 2017-03-01 04:35:10.773  "
      ]
     },
     "execution_count": 86,
     "metadata": {},
     "output_type": "execute_result"
    }
   ],
   "source": [
    "# Import the data set as a DataFrame\n",
    "data_df = pd.read_excel(path) \n",
    "data_df.head()"
   ]
  },
  {
   "cell_type": "code",
   "execution_count": 43,
   "id": "de7463e1",
   "metadata": {},
   "outputs": [
    {
     "name": "stdout",
     "output_type": "stream",
     "text": [
      "Total revenue generated: 15725640\n",
      "Total items sold: 43936\n",
      "Average order value: 357.92152221412965\n"
     ]
    }
   ],
   "source": [
    "#total revenue\n",
    "tot_rev=data_df['order_amount'].sum()\n",
    "#total items\n",
    "tot_items=data_df['total_items'].sum()\n",
    "#AOV\n",
    "AOV=tot_rev/tot_items\n",
    "print(\"Total revenue generated:\",tot_rev)\n",
    "print(\"Total items sold:\",tot_items)\n",
    "print(\"Average order value:\",AOV)"
   ]
  },
  {
   "cell_type": "markdown",
   "id": "86faeb66",
   "metadata": {},
   "source": [
    "# Answer 1\n"
   ]
  },
  {
   "cell_type": "code",
   "execution_count": 88,
   "id": "2fdcdcea",
   "metadata": {},
   "outputs": [
    {
     "name": "stdout",
     "output_type": "stream",
     "text": [
      "Total revenue generated: 15725640\n",
      "Total items sold: 5000\n",
      "Average order value: 3145.128\n"
     ]
    }
   ],
   "source": [
    "#total revenue\n",
    "tot_rev=data_df['order_amount'].sum()\n",
    "#total items error\n",
    "tot_items=data_df['total_items'].count()\n",
    "#AOV\n",
    "AOV=tot_rev/tot_items\n",
    "print(\"Total revenue generated:\",tot_rev)\n",
    "print(\"Total items sold:\",tot_items)\n",
    "print(\"Average order value:\",AOV)"
   ]
  },
  {
   "cell_type": "markdown",
   "id": "cbbd47a9",
   "metadata": {},
   "source": [
    "Therefore the error in calculating total_items results in error. Instead of summing the value of items, count was used."
   ]
  },
  {
   "cell_type": "markdown",
   "id": "8581f151",
   "metadata": {},
   "source": [
    "# Answer 2\n"
   ]
  },
  {
   "cell_type": "markdown",
   "id": "9d1dd00b",
   "metadata": {},
   "source": [
    "To correctly calculate AOV (average order value) we need to divide the total revenue in the time period with the total number of items sold. That is, AOV = total_revenue/total_items"
   ]
  },
  {
   "cell_type": "markdown",
   "id": "0601b7d5",
   "metadata": {},
   "source": [
    "# Answer 3\n"
   ]
  },
  {
   "cell_type": "markdown",
   "id": "6096dbf8",
   "metadata": {},
   "source": [
    "The correct value is 357.92"
   ]
  }
 ],
 "metadata": {
  "kernelspec": {
   "display_name": "Python 3",
   "language": "python",
   "name": "python3"
  },
  "language_info": {
   "codemirror_mode": {
    "name": "ipython",
    "version": 3
   },
   "file_extension": ".py",
   "mimetype": "text/x-python",
   "name": "python",
   "nbconvert_exporter": "python",
   "pygments_lexer": "ipython3",
   "version": "3.8.8"
  }
 },
 "nbformat": 4,
 "nbformat_minor": 5
}
